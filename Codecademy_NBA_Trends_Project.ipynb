{
  "cells": [
    {
      "cell_type": "markdown",
      "metadata": {
        "id": "view-in-github",
        "colab_type": "text"
      },
      "source": [
        "<a href=\"https://colab.research.google.com/github/cavs1010/NBA_Trends/blob/main/Codecademy_NBA_Trends_Project.ipynb\" target=\"_parent\"><img src=\"https://colab.research.google.com/assets/colab-badge.svg\" alt=\"Open In Colab\"/></a>"
      ]
    },
    {
      "cell_type": "markdown",
      "metadata": {
        "id": "8fzDB3yspDc-"
      },
      "source": [
        "# 🏀NBA Trends Project\n",
        "\n",
        "*Analyze National Basketball Association (NBA) data to look at associations between teams, win-rates, playoff appearances, and more.*"
      ]
    },
    {
      "cell_type": "code",
      "source": [
        "from google.colab import drive\n",
        "drive.mount('/content/drive')"
      ],
      "metadata": {
        "id": "Exw4eu86pYun",
        "colab": {
          "base_uri": "https://localhost:8080/"
        },
        "outputId": "32d0ec42-f289-449f-d09c-65e3c0218fde"
      },
      "execution_count": null,
      "outputs": [
        {
          "output_type": "stream",
          "name": "stdout",
          "text": [
            "Mounted at /content/drive\n"
          ]
        }
      ]
    },
    {
      "cell_type": "code",
      "source": [
        "%cd '/content/drive/MyDrive/Data_Science/03_NBA_Trends'\n",
        "%pwd"
      ],
      "metadata": {
        "colab": {
          "base_uri": "https://localhost:8080/",
          "height": 54
        },
        "id": "3vhZ1UmqvwCP",
        "outputId": "9c331022-bcc6-415c-cb25-2ce03e584944"
      },
      "execution_count": null,
      "outputs": [
        {
          "output_type": "stream",
          "name": "stdout",
          "text": [
            "/content/drive/MyDrive/Data_Science/03_NBA_Trends\n"
          ]
        },
        {
          "output_type": "execute_result",
          "data": {
            "text/plain": [
              "'/content/drive/MyDrive/Data_Science/03_NBA_Trends'"
            ],
            "application/vnd.google.colaboratory.intrinsic+json": {
              "type": "string"
            }
          },
          "metadata": {},
          "execution_count": 2
        }
      ]
    },
    {
      "cell_type": "markdown",
      "metadata": {
        "id": "pxqpcvSqpDdA"
      },
      "source": [
        "In this project, it will be analyzed data from the NBA (National Basketball Association) and explore possible associations. \n",
        "\n",
        "This data was originally sourced from 538's Analysis of the [Complete History Of The NBA](http://fivethirtyeight.com/interactives/the-complete-history-of-every-nba-team-by-elo) and contains the original, unmodified data from [Basketball Reference](http://www.basketball-reference.com/) as well as several additional variables 538 added to perform their own analysis. \n",
        "\n",
        "More info about the data and how it's being used by 538 [here](https://github.com/fivethirtyeight/data/tree/master/nba-elo). For this project, it has been limited the data to just 5 teams and 10 columns (plus one constructed column, `point_diff`, the difference between `pts` and `opp_pts`).\n",
        "\n",
        "It will be created several charts and tables in this project, so you'll need to use `plt.clf()` between plots in your code so that the plots don't layer on top of one another. [TO DELETE]\n"
      ]
    },
    {
      "cell_type": "code",
      "execution_count": null,
      "metadata": {
        "id": "47ry2YbFpDdB"
      },
      "outputs": [],
      "source": [
        "import pandas as pd\n",
        "import numpy as np\n",
        "from scipy.stats import pearsonr, chi2_contingency\n",
        "import matplotlib.pyplot as plt\n",
        "import seaborn as sns"
      ]
    },
    {
      "cell_type": "code",
      "execution_count": null,
      "metadata": {
        "id": "sK8bUEtepDdC"
      },
      "outputs": [],
      "source": [
        "#to make the output look nicer\n",
        "np.set_printoptions(suppress=True, precision = 2)"
      ]
    },
    {
      "cell_type": "code",
      "execution_count": null,
      "metadata": {
        "id": "O2hlJe1kpDdD",
        "colab": {
          "base_uri": "https://localhost:8080/",
          "height": 206
        },
        "outputId": "7135775a-59ed-4c31-d77d-843c64539dc1"
      },
      "outputs": [
        {
          "output_type": "execute_result",
          "data": {
            "text/plain": [
              "        game_id  year_id  fran_id      opp_fran game_location  is_playoffs  \\\n",
              "0  194611010TRH     1947   Knicks       Huskies             A            0   \n",
              "1  194611020CHS     1947   Knicks         Stags             A            0   \n",
              "2  194611020PRO     1947  Celtics  Steamrollers             A            0   \n",
              "3  194611050BOS     1947  Celtics         Stags             H            0   \n",
              "4  194611070STB     1947   Knicks       Bombers             A            0   \n",
              "\n",
              "   pts  opp_pts game_result  forecast  point_diff  \n",
              "0   68       66           W  0.359935           2  \n",
              "1   47       63           L  0.368899         -16  \n",
              "2   53       59           L  0.359935          -6  \n",
              "3   55       57           L  0.620204          -2  \n",
              "4   68       63           W  0.339290           5  "
            ],
            "text/html": [
              "\n",
              "  <div id=\"df-aea8039b-c0ec-453b-961b-d2b1b5774daf\">\n",
              "    <div class=\"colab-df-container\">\n",
              "      <div>\n",
              "<style scoped>\n",
              "    .dataframe tbody tr th:only-of-type {\n",
              "        vertical-align: middle;\n",
              "    }\n",
              "\n",
              "    .dataframe tbody tr th {\n",
              "        vertical-align: top;\n",
              "    }\n",
              "\n",
              "    .dataframe thead th {\n",
              "        text-align: right;\n",
              "    }\n",
              "</style>\n",
              "<table border=\"1\" class=\"dataframe\">\n",
              "  <thead>\n",
              "    <tr style=\"text-align: right;\">\n",
              "      <th></th>\n",
              "      <th>game_id</th>\n",
              "      <th>year_id</th>\n",
              "      <th>fran_id</th>\n",
              "      <th>opp_fran</th>\n",
              "      <th>game_location</th>\n",
              "      <th>is_playoffs</th>\n",
              "      <th>pts</th>\n",
              "      <th>opp_pts</th>\n",
              "      <th>game_result</th>\n",
              "      <th>forecast</th>\n",
              "      <th>point_diff</th>\n",
              "    </tr>\n",
              "  </thead>\n",
              "  <tbody>\n",
              "    <tr>\n",
              "      <th>0</th>\n",
              "      <td>194611010TRH</td>\n",
              "      <td>1947</td>\n",
              "      <td>Knicks</td>\n",
              "      <td>Huskies</td>\n",
              "      <td>A</td>\n",
              "      <td>0</td>\n",
              "      <td>68</td>\n",
              "      <td>66</td>\n",
              "      <td>W</td>\n",
              "      <td>0.359935</td>\n",
              "      <td>2</td>\n",
              "    </tr>\n",
              "    <tr>\n",
              "      <th>1</th>\n",
              "      <td>194611020CHS</td>\n",
              "      <td>1947</td>\n",
              "      <td>Knicks</td>\n",
              "      <td>Stags</td>\n",
              "      <td>A</td>\n",
              "      <td>0</td>\n",
              "      <td>47</td>\n",
              "      <td>63</td>\n",
              "      <td>L</td>\n",
              "      <td>0.368899</td>\n",
              "      <td>-16</td>\n",
              "    </tr>\n",
              "    <tr>\n",
              "      <th>2</th>\n",
              "      <td>194611020PRO</td>\n",
              "      <td>1947</td>\n",
              "      <td>Celtics</td>\n",
              "      <td>Steamrollers</td>\n",
              "      <td>A</td>\n",
              "      <td>0</td>\n",
              "      <td>53</td>\n",
              "      <td>59</td>\n",
              "      <td>L</td>\n",
              "      <td>0.359935</td>\n",
              "      <td>-6</td>\n",
              "    </tr>\n",
              "    <tr>\n",
              "      <th>3</th>\n",
              "      <td>194611050BOS</td>\n",
              "      <td>1947</td>\n",
              "      <td>Celtics</td>\n",
              "      <td>Stags</td>\n",
              "      <td>H</td>\n",
              "      <td>0</td>\n",
              "      <td>55</td>\n",
              "      <td>57</td>\n",
              "      <td>L</td>\n",
              "      <td>0.620204</td>\n",
              "      <td>-2</td>\n",
              "    </tr>\n",
              "    <tr>\n",
              "      <th>4</th>\n",
              "      <td>194611070STB</td>\n",
              "      <td>1947</td>\n",
              "      <td>Knicks</td>\n",
              "      <td>Bombers</td>\n",
              "      <td>A</td>\n",
              "      <td>0</td>\n",
              "      <td>68</td>\n",
              "      <td>63</td>\n",
              "      <td>W</td>\n",
              "      <td>0.339290</td>\n",
              "      <td>5</td>\n",
              "    </tr>\n",
              "  </tbody>\n",
              "</table>\n",
              "</div>\n",
              "      <button class=\"colab-df-convert\" onclick=\"convertToInteractive('df-aea8039b-c0ec-453b-961b-d2b1b5774daf')\"\n",
              "              title=\"Convert this dataframe to an interactive table.\"\n",
              "              style=\"display:none;\">\n",
              "        \n",
              "  <svg xmlns=\"http://www.w3.org/2000/svg\" height=\"24px\"viewBox=\"0 0 24 24\"\n",
              "       width=\"24px\">\n",
              "    <path d=\"M0 0h24v24H0V0z\" fill=\"none\"/>\n",
              "    <path d=\"M18.56 5.44l.94 2.06.94-2.06 2.06-.94-2.06-.94-.94-2.06-.94 2.06-2.06.94zm-11 1L8.5 8.5l.94-2.06 2.06-.94-2.06-.94L8.5 2.5l-.94 2.06-2.06.94zm10 10l.94 2.06.94-2.06 2.06-.94-2.06-.94-.94-2.06-.94 2.06-2.06.94z\"/><path d=\"M17.41 7.96l-1.37-1.37c-.4-.4-.92-.59-1.43-.59-.52 0-1.04.2-1.43.59L10.3 9.45l-7.72 7.72c-.78.78-.78 2.05 0 2.83L4 21.41c.39.39.9.59 1.41.59.51 0 1.02-.2 1.41-.59l7.78-7.78 2.81-2.81c.8-.78.8-2.07 0-2.86zM5.41 20L4 18.59l7.72-7.72 1.47 1.35L5.41 20z\"/>\n",
              "  </svg>\n",
              "      </button>\n",
              "      \n",
              "  <style>\n",
              "    .colab-df-container {\n",
              "      display:flex;\n",
              "      flex-wrap:wrap;\n",
              "      gap: 12px;\n",
              "    }\n",
              "\n",
              "    .colab-df-convert {\n",
              "      background-color: #E8F0FE;\n",
              "      border: none;\n",
              "      border-radius: 50%;\n",
              "      cursor: pointer;\n",
              "      display: none;\n",
              "      fill: #1967D2;\n",
              "      height: 32px;\n",
              "      padding: 0 0 0 0;\n",
              "      width: 32px;\n",
              "    }\n",
              "\n",
              "    .colab-df-convert:hover {\n",
              "      background-color: #E2EBFA;\n",
              "      box-shadow: 0px 1px 2px rgba(60, 64, 67, 0.3), 0px 1px 3px 1px rgba(60, 64, 67, 0.15);\n",
              "      fill: #174EA6;\n",
              "    }\n",
              "\n",
              "    [theme=dark] .colab-df-convert {\n",
              "      background-color: #3B4455;\n",
              "      fill: #D2E3FC;\n",
              "    }\n",
              "\n",
              "    [theme=dark] .colab-df-convert:hover {\n",
              "      background-color: #434B5C;\n",
              "      box-shadow: 0px 1px 3px 1px rgba(0, 0, 0, 0.15);\n",
              "      filter: drop-shadow(0px 1px 2px rgba(0, 0, 0, 0.3));\n",
              "      fill: #FFFFFF;\n",
              "    }\n",
              "  </style>\n",
              "\n",
              "      <script>\n",
              "        const buttonEl =\n",
              "          document.querySelector('#df-aea8039b-c0ec-453b-961b-d2b1b5774daf button.colab-df-convert');\n",
              "        buttonEl.style.display =\n",
              "          google.colab.kernel.accessAllowed ? 'block' : 'none';\n",
              "\n",
              "        async function convertToInteractive(key) {\n",
              "          const element = document.querySelector('#df-aea8039b-c0ec-453b-961b-d2b1b5774daf');\n",
              "          const dataTable =\n",
              "            await google.colab.kernel.invokeFunction('convertToInteractive',\n",
              "                                                     [key], {});\n",
              "          if (!dataTable) return;\n",
              "\n",
              "          const docLinkHtml = 'Like what you see? Visit the ' +\n",
              "            '<a target=\"_blank\" href=https://colab.research.google.com/notebooks/data_table.ipynb>data table notebook</a>'\n",
              "            + ' to learn more about interactive tables.';\n",
              "          element.innerHTML = '';\n",
              "          dataTable['output_type'] = 'display_data';\n",
              "          await google.colab.output.renderOutput(dataTable, element);\n",
              "          const docLink = document.createElement('div');\n",
              "          docLink.innerHTML = docLinkHtml;\n",
              "          element.appendChild(docLink);\n",
              "        }\n",
              "      </script>\n",
              "    </div>\n",
              "  </div>\n",
              "  "
            ]
          },
          "metadata": {},
          "execution_count": 5
        }
      ],
      "source": [
        "nba = pd.read_csv('nba_games.csv')\n",
        "nba.head()"
      ]
    },
    {
      "cell_type": "code",
      "execution_count": null,
      "metadata": {
        "id": "-NHQul7EpDdD"
      },
      "outputs": [],
      "source": [
        "# Subset Data to 2010 Season, 2014 Season\n",
        "nba_2010 = nba[nba.year_id == 2010]\n",
        "nba_2014 = nba[nba.year_id == 2014]"
      ]
    },
    {
      "cell_type": "markdown",
      "metadata": {
        "id": "2Tm6bLkFpDdD"
      },
      "source": [
        "### Task 1\n",
        "The data has been subset into two smaller datasets: games from 2010 (named nba_2010) and games from 2014 (named nba_2014). To start, let’s focus on the 2010 data.\n",
        "\n",
        "Suppose I want to compare the knicks to the nets with respect to points earned per game. Using the pts column from the nba_2010 DataFrame, let's create two series named knicks_pts (fran_id = \"Knicks\") and nets_pts(fran_id = \"Nets\") that represent the points each team has scored in their games.\n"
      ]
    },
    {
      "cell_type": "code",
      "execution_count": null,
      "metadata": {
        "id": "eTkXPIkrpDdN"
      },
      "outputs": [],
      "source": [
        "knicks_pts = nba_2010[nba_2010.fran_id == 'Knicks'].pts\n",
        "nets_pts = nba_2010[nba_2010.fran_id == 'Nets'].pts"
      ]
    },
    {
      "cell_type": "markdown",
      "metadata": {
        "id": "svGDYtw9pDdN"
      },
      "source": [
        "### Task 2\n",
        "\n",
        "Let's calculate the difference between the two teams’ average points scored and save the result as diff_means_2010.\n"
      ]
    },
    {
      "cell_type": "code",
      "execution_count": null,
      "metadata": {
        "id": "tx0N1GCVpDdO",
        "colab": {
          "base_uri": "https://localhost:8080/"
        },
        "outputId": "eb7a312f-7d8e-4e6c-f62e-34485fe3571b"
      },
      "outputs": [
        {
          "output_type": "stream",
          "name": "stdout",
          "text": [
            "The points average mean difference betwee the knicks and the nets in 2010 is  9.73\n"
          ]
        }
      ],
      "source": [
        "diff_means_2010 = np.mean(knicks_pts) - np.mean(nets_pts)\n",
        "print(f'The points average mean difference betwee the knicks and the nets in 2010 is {diff_means_2010: .2f}')"
      ]
    },
    {
      "cell_type": "markdown",
      "source": [
        "*Based on this result, it is possible to see that the difference in points scored by the Knicks and the Nets was not significant during 2010. However, measuring the mean is insufficient to conclude this, and an evaluation of the frequency distribution appears to be more appropriate for reaching a better conclusion.*"
      ],
      "metadata": {
        "id": "2rr-RmqLzEQA"
      }
    },
    {
      "cell_type": "markdown",
      "metadata": {
        "id": "PmBVUIgVpDdO"
      },
      "source": [
        "### Task 3\n",
        "Rather than comparing means, it’s useful look at the full distribution of values to understand whether a difference in means is meaningful. Let's create a set of overlapping histograms that can be used to compare the points scored for the Knicks compared to the Nets.\n"
      ]
    },
    {
      "cell_type": "code",
      "execution_count": null,
      "metadata": {
        "id": "jTRa765MpDdP",
        "colab": {
          "base_uri": "https://localhost:8080/",
          "height": 265
        },
        "outputId": "45b86550-d731-45da-80b0-e7a514e83c2a"
      },
      "outputs": [
        {
          "output_type": "display_data",
          "data": {
            "text/plain": [
              "<Figure size 432x288 with 1 Axes>"
            ],
            "image/png": "[encoded data removed]"
          },
          "metadata": {
            "needs_background": "light"
          }
        }
      ],
      "source": [
        "plt.hist(knicks_pts, color = 'blue', label = 'Knicks', density = True, alpha = 0.5)\n",
        "plt.hist(nets_pts, color = 'red', label = 'Nets', density = True, alpha = 0.5)\n",
        "plt.legend()\n",
        "plt.show()"
      ]
    },
    {
      "cell_type": "markdown",
      "source": [
        "*The previous plot provides more information about the difference in points scored by the two teams. Based on this graph, it is possible to conclude that the Knicks scored more points than the Nets in 2010. This statement is also supported by the difference in means calculated in Task 2.*"
      ],
      "metadata": {
        "id": "TLXOtCNS3BMd"
      }
    },
    {
      "cell_type": "markdown",
      "metadata": {
        "id": "qnIySAlgpDdP"
      },
      "source": [
        "### Task 4\n",
        "Now, let’s compare the 2010 games to 2014 and replicate the steps from Tasks 2 and 3 using `nba_2014`. \n"
      ]
    },
    {
      "cell_type": "code",
      "execution_count": null,
      "metadata": {
        "id": "9_5ilFtipDdP",
        "colab": {
          "base_uri": "https://localhost:8080/"
        },
        "outputId": "a1b2910d-e3ad-457a-ede9-f77afa8f9ed6"
      },
      "outputs": [
        {
          "output_type": "stream",
          "name": "stdout",
          "text": [
            "The points average mean difference betwee the knicks and the nets in 2014 is  0.45\n"
          ]
        }
      ],
      "source": [
        "knicks_pts = nba_2014[nba_2014.fran_id == 'Knicks'].pts\n",
        "nets_pts = nba_2014[nba_2014.fran_id == 'Nets'].pts\n",
        "diff_means_2014 = np.mean(knicks_pts) - np.mean(nets_pts)\n",
        "print(f'The points average mean difference betwee the knicks and the nets in 2014 is {diff_means_2014: .2f}')"
      ]
    },
    {
      "cell_type": "markdown",
      "source": [
        "*The mean difference is close to zero, indicating that the two teams performed similarly by 2014. As previously stated, a frequency plot could provide additional insights about their performance.*"
      ],
      "metadata": {
        "id": "-GfMxP234mvS"
      }
    },
    {
      "cell_type": "code",
      "source": [
        "plt.hist(knicks_pts, color = 'blue', label = 'Knicks', density = True, alpha = 0.5)\n",
        "plt.hist(nets_pts, color = 'red', label = 'Nets', density = True, alpha = 0.5)\n",
        "plt.legend()\n",
        "plt.show()"
      ],
      "metadata": {
        "colab": {
          "base_uri": "https://localhost:8080/",
          "height": 265
        },
        "id": "TKCfwCag5tX6",
        "outputId": "a64ce159-ae9e-4d56-e6aa-3a2a5ce01d12"
      },
      "execution_count": null,
      "outputs": [
        {
          "output_type": "display_data",
          "data": {
            "text/plain": [
              "<Figure size 432x288 with 1 Axes>"
            ],
            "image/png": "[encoded data removed]"
          },
          "metadata": {
            "needs_background": "light"
          }
        }
      ]
    },
    {
      "cell_type": "markdown",
      "source": [
        "*Although the mean difference between the Nets and the Knicks is close to zero, the overlapping frequency plot shows that the Nets have consistently scored more points than the Knicks. It's also worth noting that the Nets' games have improved since 2010.*"
      ],
      "metadata": {
        "id": "HgZC_qy_591P"
      }
    },
    {
      "cell_type": "markdown",
      "metadata": {
        "id": "9GfDjnFDpDdP"
      },
      "source": [
        "### Task 5\n",
        "For the remainder of this project, we’ll focus on data from 2010. Let’s now include all teams in the dataset and investigate the relationship between franchise and points scored per game.\n",
        "\n",
        "\n"
      ]
    },
    {
      "cell_type": "code",
      "execution_count": null,
      "metadata": {
        "id": "S71ZgG7spDdQ",
        "colab": {
          "base_uri": "https://localhost:8080/",
          "height": 296
        },
        "outputId": "269d10a2-2163-429e-e8e6-9fc611f463e7"
      },
      "outputs": [
        {
          "output_type": "display_data",
          "data": {
            "text/plain": [
              "<Figure size 432x288 with 1 Axes>"
            ],
            "image/png": "[encoded data removed]"
          },
          "metadata": {
            "needs_background": "light"
          }
        }
      ],
      "source": [
        "sns.boxplot(data = nba_2010, x = 'fran_id', y = 'pts')\n",
        "plt.title('Relation between points scored and teams in 2010');"
      ]
    },
    {
      "cell_type": "markdown",
      "source": [
        "*In 2010, the number of points scored by all teams seemed to be similar given that most of the boxplots overlapped each other. The only team that appears to have scored fewer points is the Nets.*"
      ],
      "metadata": {
        "id": "0yPIhlQW7zlK"
      }
    },
    {
      "cell_type": "markdown",
      "metadata": {
        "id": "MWg6XBn-pDdQ"
      },
      "source": [
        "### Task 6\n",
        "We'd like to know if teams tend to win more games at home compared to away.\n",
        "\n",
        "The variable, `game_result`, indicates whether a team won a particular game ('W' stands for “win” and 'L' stands for “loss”). The variable, `game_location`, indicates whether a team was playing at home or away ('H' stands for “home” and 'A' stands for “away”). \n",
        "\n",
        "\n"
      ]
    },
    {
      "cell_type": "code",
      "execution_count": null,
      "metadata": {
        "id": "Fw67iJVIpDdQ",
        "colab": {
          "base_uri": "https://localhost:8080/"
        },
        "outputId": "50063110-3549-4f38-fc5a-8981c570cb0b"
      },
      "outputs": [
        {
          "output_type": "stream",
          "name": "stdout",
          "text": [
            "game_location    A    H\n",
            "game_result            \n",
            "L              133  105\n",
            "W               92  120\n"
          ]
        }
      ],
      "source": [
        "location_result_freq = pd.crosstab(nba_2010.game_result, nba_2010.game_location)\n",
        "print(location_result_freq)"
      ]
    },
    {
      "cell_type": "markdown",
      "source": [
        "*The variables of `game_location` and `game_outcome` appear to be related in some way. It appears that teams lose more when they play away and win more when they play at home. This table can be transformed into a proportions table to produce a clearer result.*"
      ],
      "metadata": {
        "id": "gzL5DDbq5bUv"
      }
    },
    {
      "cell_type": "markdown",
      "metadata": {
        "id": "VAHcgpfopDdR"
      },
      "source": [
        "### Task 7\n",
        "\n",
        "Convert table created in task 5 in a table of proportions."
      ]
    },
    {
      "cell_type": "code",
      "execution_count": null,
      "metadata": {
        "id": "XgVp3P9GpDdR",
        "colab": {
          "base_uri": "https://localhost:8080/"
        },
        "outputId": "0811f304-77de-46a4-81bb-f797e382e64c"
      },
      "outputs": [
        {
          "output_type": "stream",
          "name": "stdout",
          "text": [
            "game_location         A         H\n",
            "game_result                      \n",
            "L              0.295556  0.233333\n",
            "W              0.204444  0.266667\n"
          ]
        }
      ],
      "source": [
        "location_result_proportions = location_result_freq/len(nba_2010)\n",
        "print(location_result_proportions)"
      ]
    },
    {
      "cell_type": "markdown",
      "source": [
        "*It can partly confirmed what was found in Task 6. A chi_2 will be evaluated to corroborate this.*"
      ],
      "metadata": {
        "id": "MeklL8L26r_Q"
      }
    },
    {
      "cell_type": "markdown",
      "metadata": {
        "id": "K2ziWSbrpDdR"
      },
      "source": [
        "### Task 8\n",
        "Let's calculate the expected contingency table and the Chi-Square statistic.\n",
        "\n",
        "\n"
      ]
    },
    {
      "cell_type": "code",
      "execution_count": null,
      "metadata": {
        "id": "uxpeSl7lpDdR",
        "colab": {
          "base_uri": "https://localhost:8080/"
        },
        "outputId": "5a6edd51-0e68-43fb-ee5e-19052a8363c7"
      },
      "outputs": [
        {
          "output_type": "stream",
          "name": "stdout",
          "text": [
            "[[119. 119.]\n",
            " [106. 106.]]\n",
            "The chi2 is 6.50, with a p-value of 0.01\n"
          ]
        }
      ],
      "source": [
        "chi2, pval, dof, expected = chi2_contingency(location_result_freq)\n",
        "print(expected)\n",
        "print(f'The chi2 is {chi2:.2f}, with a p-value of {pval:.2f}')"
      ]
    },
    {
      "cell_type": "markdown",
      "metadata": {
        "id": "M_NiTN-npDdS"
      },
      "source": [
        "*A Chi-squared value greater than about 4 in a 2x2 table indicates an association between the evaluated categorical variables. Because the Chi-squared was greater than 4 and the associated p-value was less than 0.05 in this case, it can be concluded that there is a relationship between the two categorical variables `game_location` and `game_ouctome`.*"
      ]
    },
    {
      "cell_type": "markdown",
      "metadata": {
        "id": "Hy71bndspDdS"
      },
      "source": [
        "### Task 9\n",
        "\n",
        "For each game, 538 has calculated the probability that each team will win the game. We want to know if teams with a higher probability of winning (according to 538) also tend to win games by more points. \n",
        "\n",
        "In the data, 538's prediction is saved as `forecast`. The `point_diff` column gives the margin of victory/defeat for each team (positive values mean that the team won; negative values mean that they lost). \n",
        "\n",
        "Using `nba_2010`, let's calculate the covariance between `forecast` (538's projected win probability) and `point_diff` (the margin of victory/defeat) in the dataset.\n"
      ]
    },
    {
      "cell_type": "code",
      "execution_count": null,
      "metadata": {
        "id": "3xtPQRCUpDdS",
        "colab": {
          "base_uri": "https://localhost:8080/"
        },
        "outputId": "7c9781bb-8e2a-4439-bf01-53469d92241b"
      },
      "outputs": [
        {
          "output_type": "stream",
          "name": "stdout",
          "text": [
            "[[  0.05   1.37]\n",
            " [  1.37 186.56]]\n"
          ]
        }
      ],
      "source": [
        "cov_forecast_points_diff = np.cov(nba_2010.forecast, nba_2010.point_diff)\n",
        "print(cov_forecast_points_diff)"
      ]
    },
    {
      "cell_type": "markdown",
      "source": [
        "*The covariance is not recommended because it only shows the direction but not the strength. As can be seen, higher `forecast` result in a higher `point_diff`. To evaluate the strength, the correlation of these two variables will be calculated in the following task*"
      ],
      "metadata": {
        "id": "F0ZeFRT1Cxca"
      }
    },
    {
      "cell_type": "markdown",
      "metadata": {
        "id": "J6y9bg_TpDdT"
      },
      "source": [
        "### Task 10\n",
        "\n",
        "Because 538’s forecast variable is reported as a probability (not a binary), we can calculate the strength of the correlation.\n",
        "\n",
        "Using nba_2010, calculate the correlation between `forecast` and `point_diff`. Call this `point_diff_forecast_corr`.\n"
      ]
    },
    {
      "cell_type": "code",
      "execution_count": null,
      "metadata": {
        "id": "Ki6nY13MpDdT",
        "colab": {
          "base_uri": "https://localhost:8080/"
        },
        "outputId": "a9bb92ec-5311-42a2-ee6f-2906a8d40c14"
      },
      "outputs": [
        {
          "output_type": "stream",
          "name": "stdout",
          "text": [
            "The correlation between the two variables is 0.44, with a p-value of 9.41e-23\n"
          ]
        }
      ],
      "source": [
        "point_diff_forecast_corr, p_value = pearsonr(nba_2010.forecast, nba_2010.point_diff)\n",
        "print(f'The correlation between the two variables is {point_diff_forecast_corr:.2f}, with a p-value of {p_value:.2e}')"
      ]
    },
    {
      "cell_type": "markdown",
      "source": [
        "*There is a suggestion that the two variables are related. It is not strong, but is still perceptible. This also suggests that 538 has somehow been accurate when predicting the winner of a game. Let's look at these two variables graphically.*"
      ],
      "metadata": {
        "id": "s7-2aOmYFRMV"
      }
    },
    {
      "cell_type": "markdown",
      "metadata": {
        "id": "eUx6kx3LpDdT"
      },
      "source": [
        "### Task 11\n",
        "\n",
        "Generate a scatter plot of `forecast` (on the x-axis) and `point_diff` (on the y-axis)."
      ]
    },
    {
      "cell_type": "code",
      "execution_count": null,
      "metadata": {
        "id": "DptUBWXMpDdT",
        "colab": {
          "base_uri": "https://localhost:8080/",
          "height": 279
        },
        "outputId": "8b530a48-0c53-4940-fe0d-65e13cd9be26"
      },
      "outputs": [
        {
          "output_type": "display_data",
          "data": {
            "text/plain": [
              "<Figure size 432x288 with 1 Axes>"
            ],
            "image/png": "[encoded data removed]"
          },
          "metadata": {
            "needs_background": "light"
          }
        }
      ],
      "source": [
        "plt.scatter(x = nba_2010.forecast, y = nba_2010.point_diff)\n",
        "plt.xlabel('Probability of winning')\n",
        "plt.ylabel('Points difference')\n",
        "plt.show()"
      ]
    },
    {
      "cell_type": "markdown",
      "source": [
        "*The plot corresponds to what was discovered previously with the correlation value: a weak relationship between `forecast` and `point_diff.`*"
      ],
      "metadata": {
        "id": "TPGk3_s2KPEg"
      }
    }
  ],
  "metadata": {
    "kernelspec": {
      "display_name": "Python 3",
      "language": "python",
      "name": "python3"
    },
    "language_info": {
      "codemirror_mode": {
        "name": "ipython",
        "version": 3
      },
      "file_extension": ".py",
      "mimetype": "text/x-python",
      "name": "python",
      "nbconvert_exporter": "python",
      "pygments_lexer": "ipython3",
      "version": "3.8.5"
    },
    "colab": {
      "provenance": [],
      "include_colab_link": true
    }
  },
  "nbformat": 4,
  "nbformat_minor": 0
}